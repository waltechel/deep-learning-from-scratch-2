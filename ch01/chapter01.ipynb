{
  "nbformat": 4,
  "nbformat_minor": 0,
  "metadata": {
    "colab": {
      "name": "chapter01.ipynb",
      "private_outputs": true,
      "provenance": [],
      "authorship_tag": "ABX9TyOjTM0+PLEQVfcyFoHfg+2Q",
      "include_colab_link": true
    },
    "kernelspec": {
      "name": "python3",
      "display_name": "Python 3"
    },
    "language_info": {
      "name": "python"
    }
  },
  "cells": [
    {
      "cell_type": "markdown",
      "metadata": {
        "id": "view-in-github",
        "colab_type": "text"
      },
      "source": [
        "<a href=\"https://colab.research.google.com/github/waltechel/deep-learning-from-scratch-2/blob/master/ch01/chapter01.ipynb\" target=\"_parent\"><img src=\"https://colab.research.google.com/assets/colab-badge.svg\" alt=\"Open In Colab\"/></a>"
      ]
    },
    {
      "cell_type": "markdown",
      "metadata": {
        "id": "BXv2lC1-pB4T"
      },
      "source": [
        "# Chapter01 신경망 복습"
      ]
    },
    {
      "cell_type": "markdown",
      "metadata": {
        "id": "Dp7t22j3pE8b"
      },
      "source": [
        "## 1.1 수학과 파이썬 복습"
      ]
    },
    {
      "cell_type": "markdown",
      "metadata": {
        "id": "uYlSk_uWywMg"
      },
      "source": [
        "### 1.1.1 벡터와 행렬\n"
      ]
    },
    {
      "cell_type": "markdown",
      "metadata": {
        "id": "Jt7D-UZTzwq6"
      },
      "source": [
        "### 1.1.2 행렬의 원소별 연산\n"
      ]
    },
    {
      "cell_type": "markdown",
      "metadata": {
        "id": "KBkwzt5C3W0u"
      },
      "source": [
        "### 1.1.3 브로드캐스트\n"
      ]
    },
    {
      "cell_type": "markdown",
      "metadata": {
        "id": "d-hFSMig3ZgI"
      },
      "source": [
        "### 1.1.4 벡터의 내적과 행렬의 곱\n"
      ]
    },
    {
      "cell_type": "markdown",
      "metadata": {
        "id": "-Ca_hWPd3bH5"
      },
      "source": [
        "### 1.1.5 행렬 형상 확인\n"
      ]
    },
    {
      "cell_type": "markdown",
      "metadata": {
        "id": "lIkj_FHd3c3I"
      },
      "source": [
        "## 1.2 신경망의 추론\n"
      ]
    },
    {
      "cell_type": "markdown",
      "metadata": {
        "id": "eM2GNXiU3e_L"
      },
      "source": [
        "### 1.2.1 신경망 추론 전체 그림\n"
      ]
    },
    {
      "cell_type": "markdown",
      "metadata": {
        "id": "tp-INLZb3hLo"
      },
      "source": [
        "### 1.2.2 계층으로 클래스화 및 순전파 구현\n"
      ]
    },
    {
      "cell_type": "markdown",
      "metadata": {
        "id": "DqHR7-NP3k9C"
      },
      "source": [
        "## 1.3 신경망의 학습\n"
      ]
    },
    {
      "cell_type": "markdown",
      "metadata": {
        "id": "eOsRNEHi3qiC"
      },
      "source": [
        "### 1.3.1 손실 함수\n"
      ]
    },
    {
      "cell_type": "markdown",
      "metadata": {
        "id": "DZX0N3363r3J"
      },
      "source": [
        "### 1.3.2 미분과 기울기\n"
      ]
    },
    {
      "cell_type": "markdown",
      "metadata": {
        "id": "kBCYyaEW3tVK"
      },
      "source": [
        "### 1.3.3 연쇄 법칙\n"
      ]
    },
    {
      "cell_type": "markdown",
      "metadata": {
        "id": "bHgvcdH93uoD"
      },
      "source": [
        "### 1.3.4 계산 그래프\n"
      ]
    },
    {
      "cell_type": "markdown",
      "metadata": {
        "id": "guW73lY53wwc"
      },
      "source": [
        "### 1.3.5 기울기 도출과 역전파 구현\n"
      ]
    },
    {
      "cell_type": "markdown",
      "metadata": {
        "id": "vbdRduaP3zNr"
      },
      "source": [
        "### 1.3.6 가중치 갱신\n"
      ]
    },
    {
      "cell_type": "markdown",
      "metadata": {
        "id": "Xlc9UEmm30z2"
      },
      "source": [
        "## 1.4 신경망으로 문제를 풀다\n"
      ]
    },
    {
      "cell_type": "markdown",
      "metadata": {
        "id": "-XpZVeGG38q0"
      },
      "source": [
        "### 1.4.1 스파이럴 데이터셋\n"
      ]
    },
    {
      "cell_type": "markdown",
      "metadata": {
        "id": "mPCSEuVJ3-yV"
      },
      "source": [
        "### 1.4.2 신경망 구현\n"
      ]
    },
    {
      "cell_type": "markdown",
      "metadata": {
        "id": "-_yzBnyr3_yH"
      },
      "source": [
        "### 1.4.3 학습용 코드\n"
      ]
    },
    {
      "cell_type": "markdown",
      "metadata": {
        "id": "yJs8TYjR4BKt"
      },
      "source": [
        "### 1.4.4 Trainer 클래스\n"
      ]
    },
    {
      "cell_type": "markdown",
      "metadata": {
        "id": "-Y3SGjFe4Ch_"
      },
      "source": [
        "## 1.5 계산 고속화\n"
      ]
    },
    {
      "cell_type": "markdown",
      "metadata": {
        "id": "XD2qeVSZ4EaQ"
      },
      "source": [
        "### 1.5.1 비트 정밀도\n"
      ]
    },
    {
      "cell_type": "markdown",
      "metadata": {
        "id": "t3AxVewW4Fun"
      },
      "source": [
        "### 1.5.2 GPU(쿠파이)\n"
      ]
    },
    {
      "cell_type": "markdown",
      "metadata": {
        "id": "cniE97zd4IVP"
      },
      "source": [
        "## 1.6 정리"
      ]
    }
  ]
}