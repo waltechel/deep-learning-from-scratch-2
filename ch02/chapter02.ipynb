{
  "nbformat": 4,
  "nbformat_minor": 0,
  "metadata": {
    "colab": {
      "name": "chapter02.ipynb",
      "private_outputs": true,
      "provenance": [],
      "authorship_tag": "ABX9TyOYkJH7wVWCEnmnoiXRFofR",
      "include_colab_link": true
    },
    "kernelspec": {
      "name": "python3",
      "display_name": "Python 3"
    },
    "language_info": {
      "name": "python"
    }
  },
  "cells": [
    {
      "cell_type": "markdown",
      "metadata": {
        "id": "view-in-github",
        "colab_type": "text"
      },
      "source": [
        "<a href=\"https://colab.research.google.com/github/waltechel/deep-learning-from-scratch-2/blob/master/ch02/chapter02.ipynb\" target=\"_parent\"><img src=\"https://colab.research.google.com/assets/colab-badge.svg\" alt=\"Open In Colab\"/></a>"
      ]
    },
    {
      "cell_type": "markdown",
      "metadata": {
        "id": "BXv2lC1-pB4T"
      },
      "source": [
        "# Chapter02 자연어와 단어의 분산 표현"
      ]
    },
    {
      "cell_type": "markdown",
      "metadata": {
        "id": "Dp7t22j3pE8b"
      },
      "source": [
        "## 2.1 자연어 처리란"
      ]
    },
    {
      "cell_type": "markdown",
      "metadata": {
        "id": "uYlSk_uWywMg"
      },
      "source": [
        "### 2.1.1 단어의 의미\n"
      ]
    },
    {
      "cell_type": "markdown",
      "metadata": {
        "id": "Jt7D-UZTzwq6"
      },
      "source": [
        "## 2.2 시소러스\n"
      ]
    },
    {
      "cell_type": "markdown",
      "metadata": {
        "id": "gJyjW9Np4zEE"
      },
      "source": [
        "### 2.2.1 WordNet\n"
      ]
    },
    {
      "cell_type": "markdown",
      "metadata": {
        "id": "RrKG1jQg44yM"
      },
      "source": [
        "### 2.2.2 시소러스의 문제점\n"
      ]
    },
    {
      "cell_type": "markdown",
      "metadata": {
        "id": "6f-nmEJd47Rb"
      },
      "source": [
        "## 2.3 통계 기반 기법\n"
      ]
    },
    {
      "cell_type": "markdown",
      "metadata": {
        "id": "tzJ65IAR49P2"
      },
      "source": [
        "### 2.3.1 파이썬으로 말뭉치 전처리하기\n"
      ]
    },
    {
      "cell_type": "markdown",
      "metadata": {
        "id": "fHLrWhr-5ACl"
      },
      "source": [
        "### 2.3.2 단어의 분산 표현\n"
      ]
    },
    {
      "cell_type": "markdown",
      "metadata": {
        "id": "xWk53T1y5Bb1"
      },
      "source": [
        "### 2.3.3 분포 가설\n"
      ]
    },
    {
      "cell_type": "markdown",
      "metadata": {
        "id": "fSxfgF1P5Cpu"
      },
      "source": [
        "### 2.3.4 동시발생 행렬\n"
      ]
    },
    {
      "cell_type": "markdown",
      "metadata": {
        "id": "_buScQ7W5mNY"
      },
      "source": [
        "### 2.3.5 벡터 간 유사도\n"
      ]
    },
    {
      "cell_type": "markdown",
      "metadata": {
        "id": "CaI5olrr5pia"
      },
      "source": [
        "### 2.3.6 유사 단어의 랭킹 표시\n"
      ]
    },
    {
      "cell_type": "markdown",
      "metadata": {
        "id": "Tsp7v0ex5rV7"
      },
      "source": [
        "## 2.4. 통계 기반 기법 개선하기\n"
      ]
    },
    {
      "cell_type": "markdown",
      "metadata": {
        "id": "VC9WAWxL5tlL"
      },
      "source": [
        "### 2.4.1 상호정보량\n"
      ]
    },
    {
      "cell_type": "markdown",
      "metadata": {
        "id": "gwtmcvyX5wDM"
      },
      "source": [
        "### 2.4.2 차원 감소\n"
      ]
    },
    {
      "cell_type": "markdown",
      "metadata": {
        "id": "VbpIr3Zw5xmN"
      },
      "source": [
        "### 2.4.3 SVD에 의한 차원 감소\n"
      ]
    },
    {
      "cell_type": "markdown",
      "metadata": {
        "id": "UgPdSNq950JV"
      },
      "source": [
        "### 2.4.4 PTB 데이터셋\n"
      ]
    },
    {
      "cell_type": "markdown",
      "metadata": {
        "id": "iBHiGwcV52B9"
      },
      "source": [
        "### 2.4.5 PTB 데이터셋 평가\n"
      ]
    },
    {
      "cell_type": "markdown",
      "metadata": {
        "id": "11RshvcW54cG"
      },
      "source": [
        "## 2.5 정리\n"
      ]
    }
  ]
}