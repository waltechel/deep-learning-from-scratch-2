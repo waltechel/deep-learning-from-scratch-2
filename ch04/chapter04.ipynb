{
  "nbformat": 4,
  "nbformat_minor": 0,
  "metadata": {
    "colab": {
      "name": "chapter04.ipynb",
      "private_outputs": true,
      "provenance": [],
      "toc_visible": true,
      "authorship_tag": "ABX9TyOWn/CS29fbl5Fv7Lk7N6c0",
      "include_colab_link": true
    },
    "kernelspec": {
      "name": "python3",
      "display_name": "Python 3"
    },
    "language_info": {
      "name": "python"
    }
  },
  "cells": [
    {
      "cell_type": "markdown",
      "metadata": {
        "id": "view-in-github",
        "colab_type": "text"
      },
      "source": [
        "<a href=\"https://colab.research.google.com/github/waltechel/deep-learning-from-scratch-2/blob/master/ch04/chapter04.ipynb\" target=\"_parent\"><img src=\"https://colab.research.google.com/assets/colab-badge.svg\" alt=\"Open In Colab\"/></a>"
      ]
    },
    {
      "cell_type": "markdown",
      "metadata": {
        "id": "BXv2lC1-pB4T"
      },
      "source": [
        "# Chapter04 word2vec 속도 개선\n"
      ]
    },
    {
      "cell_type": "markdown",
      "metadata": {
        "id": "Dp7t22j3pE8b"
      },
      "source": [
        "## 4.1 word2vec 개선 1"
      ]
    },
    {
      "cell_type": "markdown",
      "metadata": {
        "id": "uYlSk_uWywMg"
      },
      "source": [
        "### 4.1.1 Embedding 계층\n"
      ]
    },
    {
      "cell_type": "markdown",
      "metadata": {
        "id": "wwZPAsmo64Tt"
      },
      "source": [
        "### 4.1.2 Embedding 계층 구현\n"
      ]
    },
    {
      "cell_type": "markdown",
      "metadata": {
        "id": "3G9oVkCh67AW"
      },
      "source": [
        "## 4.2 word2vec 개선 2\n"
      ]
    },
    {
      "cell_type": "markdown",
      "metadata": {
        "id": "TcLDj87n8J1X"
      },
      "source": [
        "### 4.2.1 은닉층 이후 계산의 문제점\n"
      ]
    },
    {
      "cell_type": "markdown",
      "metadata": {
        "id": "NZ-sX0mz8NFj"
      },
      "source": [
        "### 4.2.2 다중 분류에서 이진 분류로\n"
      ]
    },
    {
      "cell_type": "markdown",
      "metadata": {
        "id": "Rk5O2hBn8PYV"
      },
      "source": [
        "### 4.2.3 시그모이드 함수와 크로스 엔트로피 오차\n"
      ]
    },
    {
      "cell_type": "markdown",
      "metadata": {
        "id": "tF49q-Bm8Szk"
      },
      "source": [
        "### 4.2.4 다중 분류에서 이진 분류로(구현)\n"
      ]
    },
    {
      "cell_type": "markdown",
      "metadata": {
        "id": "cF8Qsz_r8VPp"
      },
      "source": [
        "### 4.2.5 네거티브 샘플링\n"
      ]
    },
    {
      "cell_type": "markdown",
      "metadata": {
        "id": "sC4CbZAC8bMD"
      },
      "source": [
        "### 4.2.6 네거티브 샘플링의 샘플링 기법\n"
      ]
    },
    {
      "cell_type": "markdown",
      "metadata": {
        "id": "7Cm7zTNd8dDD"
      },
      "source": [
        "### 4.2.7 네거티브 샘플링 구현\n"
      ]
    },
    {
      "cell_type": "markdown",
      "metadata": {
        "id": "xLftLRdy8e_z"
      },
      "source": [
        "## 4.3 개선판 word2vec 학습\n",
        "\n"
      ]
    },
    {
      "cell_type": "markdown",
      "metadata": {
        "id": "04e2MAVA8ivj"
      },
      "source": [
        "### 4.3.1 CBOW 모델 구현\n"
      ]
    },
    {
      "cell_type": "markdown",
      "metadata": {
        "id": "V8IxWqa78mOT"
      },
      "source": [
        "### 4.3.2 CBOW 모델 학습 코드\n"
      ]
    },
    {
      "cell_type": "markdown",
      "metadata": {
        "id": "kMCFtWHN8paO"
      },
      "source": [
        "### 4.3.3 CBOW 모델 평가\n"
      ]
    },
    {
      "cell_type": "markdown",
      "metadata": {
        "id": "cvVTmhKw8rLs"
      },
      "source": [
        "## 4.4 word2vec 남은 주제\n"
      ]
    },
    {
      "cell_type": "markdown",
      "metadata": {
        "id": "-klEduko8toV"
      },
      "source": [
        "### 4.4.1 word2vec 을 사용한 애플리케이션의 예\n"
      ]
    },
    {
      "cell_type": "markdown",
      "metadata": {
        "id": "N91x7on_8woE"
      },
      "source": [
        "### 4.4.2 단어 벡터 평가 방법\n"
      ]
    },
    {
      "cell_type": "markdown",
      "metadata": {
        "id": "BH9sdno18yrG"
      },
      "source": [
        "## 4.5 정리\n"
      ]
    }
  ]
}