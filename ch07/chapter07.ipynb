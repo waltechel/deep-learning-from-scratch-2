{
  "nbformat": 4,
  "nbformat_minor": 0,
  "metadata": {
    "colab": {
      "name": "chapter07.ipynb",
      "private_outputs": true,
      "provenance": [],
      "toc_visible": true,
      "authorship_tag": "ABX9TyMGx9z8qPYOu3XrmLSEyeRx",
      "include_colab_link": true
    },
    "kernelspec": {
      "name": "python3",
      "display_name": "Python 3"
    },
    "language_info": {
      "name": "python"
    }
  },
  "cells": [
    {
      "cell_type": "markdown",
      "metadata": {
        "id": "view-in-github",
        "colab_type": "text"
      },
      "source": [
        "<a href=\"https://colab.research.google.com/github/waltechel/deep-learning-from-scratch-2/blob/master/ch07/chapter07.ipynb\" target=\"_parent\"><img src=\"https://colab.research.google.com/assets/colab-badge.svg\" alt=\"Open In Colab\"/></a>"
      ]
    },
    {
      "cell_type": "markdown",
      "metadata": {
        "id": "BXv2lC1-pB4T"
      },
      "source": [
        "# Chapter07 RNN을 사용한 문장 생성\n"
      ]
    },
    {
      "cell_type": "markdown",
      "metadata": {
        "id": "Dp7t22j3pE8b"
      },
      "source": [
        "## 7.1 언어 모델을 사용한 문장 생성"
      ]
    },
    {
      "cell_type": "markdown",
      "metadata": {
        "id": "CCzjO-nl_OlT"
      },
      "source": [
        "### 7.1.1 RNN을 사용한 문장 생성의 순서\n",
        "\n"
      ]
    },
    {
      "cell_type": "markdown",
      "metadata": {
        "id": "aD9tnL7zBM4k"
      },
      "source": [
        "### 7.1.2 문장 생성 구현\n"
      ]
    },
    {
      "cell_type": "markdown",
      "metadata": {
        "id": "WfHV-zQqBOuT"
      },
      "source": [
        "### 7.1.3 더 좋은 문장으로\n"
      ]
    },
    {
      "cell_type": "markdown",
      "metadata": {
        "id": "gF0C7E3tBQHk"
      },
      "source": [
        "## 7.2 seq2seq\n"
      ]
    },
    {
      "cell_type": "markdown",
      "metadata": {
        "id": "rMLd1k10BTL1"
      },
      "source": [
        "### 7.2.1 seq2seq의 원리\n"
      ]
    },
    {
      "cell_type": "markdown",
      "metadata": {
        "id": "YkGUyum7BXbY"
      },
      "source": [
        "### 7.2.2 시계열 데이터 변환용 장난감 문제\n"
      ]
    },
    {
      "cell_type": "markdown",
      "metadata": {
        "id": "daXK3P0qBaL9"
      },
      "source": [
        "### 7.2.3 가변 길이 시계열 데이터\n"
      ]
    },
    {
      "cell_type": "markdown",
      "metadata": {
        "id": "J_JUqjU5Bb3W"
      },
      "source": [
        "### 7.2.4 덧셈 데이터셋\n"
      ]
    },
    {
      "cell_type": "markdown",
      "metadata": {
        "id": "KezUDvm_BdLF"
      },
      "source": [
        "## 7.3 seq2seq 구현\n"
      ]
    },
    {
      "cell_type": "markdown",
      "metadata": {
        "id": "3EyKTOcxBfJ-"
      },
      "source": [
        "### 7.3.1 Encoder 클래스\n"
      ]
    },
    {
      "cell_type": "markdown",
      "metadata": {
        "id": "Gkrp6YHhBjtn"
      },
      "source": [
        "### 7.3.2 Decoder 클래스\n"
      ]
    },
    {
      "cell_type": "markdown",
      "metadata": {
        "id": "2LkoBzjEBlQu"
      },
      "source": [
        "### 7.3.3 seq2seq 클래스\n"
      ]
    },
    {
      "cell_type": "markdown",
      "metadata": {
        "id": "4iAIlUiQBoO-"
      },
      "source": [
        "### 7.3.4 seq2seq 평가\n"
      ]
    },
    {
      "cell_type": "markdown",
      "metadata": {
        "id": "_P1p_bZmBqkP"
      },
      "source": [
        "## 7.4 seq2seq 개선\n"
      ]
    },
    {
      "cell_type": "markdown",
      "metadata": {
        "id": "h2mlALFOBs9I"
      },
      "source": [
        "### 7.4.1 입력 데이터 반전(Reverse)\n"
      ]
    },
    {
      "cell_type": "markdown",
      "metadata": {
        "id": "U_okXiDQByC6"
      },
      "source": [
        "### 7.4.2 엿보기(Peeky)\n"
      ]
    },
    {
      "cell_type": "markdown",
      "metadata": {
        "id": "8GtACVKaB0t4"
      },
      "source": [
        "## 7.5 seq2seq를 이용하는 애플리케이션\n"
      ]
    },
    {
      "cell_type": "markdown",
      "metadata": {
        "id": "Vy5Qkav_B36E"
      },
      "source": [
        "### 7.5.1 챗봇\n"
      ]
    },
    {
      "cell_type": "markdown",
      "metadata": {
        "id": "oOBmWF-0B5AR"
      },
      "source": [
        "### 7.5.2 알고리즘 학습\n"
      ]
    },
    {
      "cell_type": "markdown",
      "metadata": {
        "id": "6nj-1LC7B6dB"
      },
      "source": [
        "### 7.5.3 이미지 캡셔닝\n"
      ]
    },
    {
      "cell_type": "markdown",
      "metadata": {
        "id": "NzZ6oOVNB700"
      },
      "source": [
        "## 7.6 정리\n"
      ]
    },
    {
      "cell_type": "markdown",
      "metadata": {
        "id": "Y-x3eek-B9DK"
      },
      "source": [
        ""
      ]
    }
  ]
}