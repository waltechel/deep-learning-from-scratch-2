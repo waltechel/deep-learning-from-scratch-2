{
  "nbformat": 4,
  "nbformat_minor": 0,
  "metadata": {
    "colab": {
      "name": "chapter08.ipynb",
      "private_outputs": true,
      "provenance": [],
      "toc_visible": true,
      "authorship_tag": "ABX9TyPeeT8PswzJM/mI8oU9b3Fj",
      "include_colab_link": true
    },
    "kernelspec": {
      "name": "python3",
      "display_name": "Python 3"
    },
    "language_info": {
      "name": "python"
    }
  },
  "cells": [
    {
      "cell_type": "markdown",
      "metadata": {
        "id": "view-in-github",
        "colab_type": "text"
      },
      "source": [
        "<a href=\"https://colab.research.google.com/github/waltechel/deep-learning-from-scratch-2/blob/master/ch08/chapter08.ipynb\" target=\"_parent\"><img src=\"https://colab.research.google.com/assets/colab-badge.svg\" alt=\"Open In Colab\"/></a>"
      ]
    },
    {
      "cell_type": "markdown",
      "metadata": {
        "id": "BXv2lC1-pB4T"
      },
      "source": [
        "# Chapter08 어텐션"
      ]
    },
    {
      "cell_type": "markdown",
      "metadata": {
        "id": "Y-x3eek-B9DK"
      },
      "source": [
        "## 8.1 어텐션의 구조\n"
      ]
    },
    {
      "cell_type": "markdown",
      "metadata": {
        "id": "ucKG3ItkCj9o"
      },
      "source": [
        "### 8.1.1 seq2seq의 문제"
      ]
    },
    {
      "cell_type": "markdown",
      "metadata": {
        "id": "HvM9cCaECnlR"
      },
      "source": [
        "### 8.1.2 Encoder 개선\n"
      ]
    },
    {
      "cell_type": "markdown",
      "metadata": {
        "id": "56DA5IhHCpLY"
      },
      "source": [
        "### 8.1.3 Decoder 개선\n"
      ]
    },
    {
      "cell_type": "markdown",
      "metadata": {
        "id": "TO6tn34TCqhC"
      },
      "source": [
        "### 8.1.4 Decoder 개선 2\n"
      ]
    },
    {
      "cell_type": "markdown",
      "metadata": {
        "id": "jFC5E06rCswx"
      },
      "source": [
        "### 8.1.5 Decoder 개선 3"
      ]
    },
    {
      "cell_type": "markdown",
      "metadata": {
        "id": "p2TLnW13CcQP"
      },
      "source": [
        "## 8.2 어텐션을 갖춘 seq2seq의 구현\n"
      ]
    },
    {
      "cell_type": "markdown",
      "metadata": {
        "id": "MgSUwhnQCvb4"
      },
      "source": [
        "### 8.2.1 Encoder 구현\n"
      ]
    },
    {
      "cell_type": "markdown",
      "metadata": {
        "id": "Esetqiq2CyRa"
      },
      "source": [
        "### 8.2.2 Decoder 구현\n"
      ]
    },
    {
      "cell_type": "markdown",
      "metadata": {
        "id": "BcN33mpyCzp4"
      },
      "source": [
        "### 8.2.3 seq2seq 구현\n"
      ]
    },
    {
      "cell_type": "markdown",
      "metadata": {
        "id": "2Vz8FzB3Cea3"
      },
      "source": [
        "## 8.3 어텐션 평가\n"
      ]
    },
    {
      "cell_type": "markdown",
      "metadata": {
        "id": "EHvjnKOxC2Nh"
      },
      "source": [
        "### 8.3.1 날짜 형식 변환 문제\n"
      ]
    },
    {
      "cell_type": "markdown",
      "metadata": {
        "id": "ztXRf_cxC4oK"
      },
      "source": [
        "### 8.3.2 어텐션을 갖춘 seq2seq의 학습\n"
      ]
    },
    {
      "cell_type": "markdown",
      "metadata": {
        "id": "MNI8hlRCC7OK"
      },
      "source": [
        "### 8.3.3 어텐션 시각화\n"
      ]
    },
    {
      "cell_type": "markdown",
      "metadata": {
        "id": "EPUipZuhCfaw"
      },
      "source": [
        "## 8.4 어텐션에 관한 남은 이야기\n"
      ]
    },
    {
      "cell_type": "markdown",
      "metadata": {
        "id": "19iJExEIC9wV"
      },
      "source": [
        "### 8.4.1 양방향 RNN\n",
        "\n"
      ]
    },
    {
      "cell_type": "markdown",
      "metadata": {
        "id": "rpPU0jwYDAOM"
      },
      "source": [
        "### 8.4.2 Attention 계층 사용 방법\n"
      ]
    },
    {
      "cell_type": "markdown",
      "metadata": {
        "id": "HwcQTy0dDCxj"
      },
      "source": [
        "### 8.4.3 seq2seq 심층화와 skip 연결"
      ]
    },
    {
      "cell_type": "markdown",
      "metadata": {
        "id": "i8taqGvKCg1X"
      },
      "source": [
        "## 8.5 어텐션 응용\n"
      ]
    },
    {
      "cell_type": "markdown",
      "metadata": {
        "id": "YFGx7ei_DGMM"
      },
      "source": [
        "### 8.5.1 구글 신경망 기계번역(GNMT)"
      ]
    },
    {
      "cell_type": "markdown",
      "metadata": {
        "id": "e8tIL-HQDJd-"
      },
      "source": [
        "### 8.5.2 트랜스포머\n"
      ]
    },
    {
      "cell_type": "markdown",
      "metadata": {
        "id": "vT1-IEryDLyN"
      },
      "source": [
        "### 8.5.3 뉴럴 튜링 머신(NTM)"
      ]
    },
    {
      "cell_type": "markdown",
      "metadata": {
        "id": "omGoJVZECiI3"
      },
      "source": [
        "## 8.6 정리"
      ]
    }
  ]
}