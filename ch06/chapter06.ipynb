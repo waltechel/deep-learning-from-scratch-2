{
  "nbformat": 4,
  "nbformat_minor": 0,
  "metadata": {
    "colab": {
      "name": "chapter06.ipynb",
      "private_outputs": true,
      "provenance": [],
      "toc_visible": true,
      "authorship_tag": "ABX9TyNWaIozLraPUTtNtlZfrUl6",
      "include_colab_link": true
    },
    "kernelspec": {
      "name": "python3",
      "display_name": "Python 3"
    },
    "language_info": {
      "name": "python"
    }
  },
  "cells": [
    {
      "cell_type": "markdown",
      "metadata": {
        "id": "view-in-github",
        "colab_type": "text"
      },
      "source": [
        "<a href=\"https://colab.research.google.com/github/waltechel/deep-learning-from-scratch-2/blob/master/ch06/chapter06.ipynb\" target=\"_parent\"><img src=\"https://colab.research.google.com/assets/colab-badge.svg\" alt=\"Open In Colab\"/></a>"
      ]
    },
    {
      "cell_type": "markdown",
      "metadata": {
        "id": "BXv2lC1-pB4T"
      },
      "source": [
        "# Chapter06 게이트가 추가된 RNN\n"
      ]
    },
    {
      "cell_type": "markdown",
      "metadata": {
        "id": "Dp7t22j3pE8b"
      },
      "source": [
        "## 6.1 RNN의 문제점"
      ]
    },
    {
      "cell_type": "markdown",
      "metadata": {
        "id": "CCzjO-nl_OlT"
      },
      "source": [
        "### 6.1.1 RNN의 복습\n",
        "\n"
      ]
    },
    {
      "cell_type": "markdown",
      "metadata": {
        "id": "hL2N9w_I_SeG"
      },
      "source": [
        "### 6.1.2 기울기 소실 또는 기울기 폭발\n"
      ]
    },
    {
      "cell_type": "markdown",
      "metadata": {
        "id": "g_MnHP8j_V47"
      },
      "source": [
        "### 6.1.3 기울기 소실과 기울기 폭발의 원인\n"
      ]
    },
    {
      "cell_type": "markdown",
      "metadata": {
        "id": "xXHCa26p_bbE"
      },
      "source": [
        "### 6.1.4 기울기 폭발 대책\n"
      ]
    },
    {
      "cell_type": "markdown",
      "metadata": {
        "id": "Mxi9xjnr_dDc"
      },
      "source": [
        "## 6.2 기울기 소실과 LSTM\n"
      ]
    },
    {
      "cell_type": "markdown",
      "metadata": {
        "id": "uAKUa4kt_fg8"
      },
      "source": [
        "### 6.2.1 LSTM의 인터페이스\n"
      ]
    },
    {
      "cell_type": "markdown",
      "metadata": {
        "id": "WtAlu3rA_i-P"
      },
      "source": [
        "### 6.2.2 LSTM 계층 조립하기\n"
      ]
    },
    {
      "cell_type": "markdown",
      "metadata": {
        "id": "hKyy6XG7_lYG"
      },
      "source": [
        "### 6.2.3 output 게이트\n"
      ]
    },
    {
      "cell_type": "markdown",
      "metadata": {
        "id": "itCMo_wG_mwm"
      },
      "source": [
        "### 6.2.4 forget 게이트\n"
      ]
    },
    {
      "cell_type": "markdown",
      "metadata": {
        "id": "m906ohZ2_oOX"
      },
      "source": [
        "### 6.2.5 새로운 기억 셀\n"
      ]
    },
    {
      "cell_type": "markdown",
      "metadata": {
        "id": "Wl59-tb__pml"
      },
      "source": [
        "### 6.2.6 input 게이트\n"
      ]
    },
    {
      "cell_type": "markdown",
      "metadata": {
        "id": "buMpNm9M_rDd"
      },
      "source": [
        "### 6.2.7 LSTM의 기울기 흐름\n"
      ]
    },
    {
      "cell_type": "markdown",
      "metadata": {
        "id": "Q8aA4rt6_tre"
      },
      "source": [
        "## 6.3 LSTM 구현\n"
      ]
    },
    {
      "cell_type": "markdown",
      "metadata": {
        "id": "1zBHbuFZ_44g"
      },
      "source": [
        "### 6.3.1 Time LSTM 구현\n"
      ]
    },
    {
      "cell_type": "markdown",
      "metadata": {
        "id": "MOdBbw7n_-vp"
      },
      "source": [
        "## 6.4 LSTM을 사용한 언어 모델\n"
      ]
    },
    {
      "cell_type": "markdown",
      "metadata": {
        "id": "hFK_bQGoAH9r"
      },
      "source": [
        "## 6.5 RNNLM 추가 개선\n"
      ]
    },
    {
      "cell_type": "markdown",
      "metadata": {
        "id": "Rg3gZSwjALCC"
      },
      "source": [
        "### 6.5.1 LSTM 계층 다층화\n"
      ]
    },
    {
      "cell_type": "markdown",
      "metadata": {
        "id": "zCSV_FA_APjr"
      },
      "source": [
        "### 6.5.2 드롭아웃에 의한 과적합 억제\n"
      ]
    },
    {
      "cell_type": "markdown",
      "metadata": {
        "id": "ckJgPv2KAUTb"
      },
      "source": [
        "### 6.5.3 가중치 공유\n"
      ]
    },
    {
      "cell_type": "markdown",
      "metadata": {
        "id": "kJYBEm2AAVbE"
      },
      "source": [
        "### 6.5.4 개선된 RNNLM 구현\n"
      ]
    },
    {
      "cell_type": "markdown",
      "metadata": {
        "id": "iHtQ8K69AXC0"
      },
      "source": [
        "### 6.5.5 첨단 연구로\n"
      ]
    },
    {
      "cell_type": "markdown",
      "metadata": {
        "id": "eJa-qzVKAYOM"
      },
      "source": [
        "## 6.6 정리"
      ]
    }
  ]
}