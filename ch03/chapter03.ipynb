{
  "nbformat": 4,
  "nbformat_minor": 0,
  "metadata": {
    "colab": {
      "name": "chapter03.ipynb",
      "private_outputs": true,
      "provenance": [],
      "toc_visible": true,
      "authorship_tag": "ABX9TyPuZr+3nuyiUHv278ZwR7G0",
      "include_colab_link": true
    },
    "kernelspec": {
      "name": "python3",
      "display_name": "Python 3"
    },
    "language_info": {
      "name": "python"
    }
  },
  "cells": [
    {
      "cell_type": "markdown",
      "metadata": {
        "id": "view-in-github",
        "colab_type": "text"
      },
      "source": [
        "<a href=\"https://colab.research.google.com/github/waltechel/deep-learning-from-scratch-2/blob/master/ch03/chapter03.ipynb\" target=\"_parent\"><img src=\"https://colab.research.google.com/assets/colab-badge.svg\" alt=\"Open In Colab\"/></a>"
      ]
    },
    {
      "cell_type": "markdown",
      "metadata": {
        "id": "BXv2lC1-pB4T"
      },
      "source": [
        "# Chapter03 word2vec\n"
      ]
    },
    {
      "cell_type": "markdown",
      "metadata": {
        "id": "Dp7t22j3pE8b"
      },
      "source": [
        "## 3.1 추론 기반 기법과 신경망"
      ]
    },
    {
      "cell_type": "markdown",
      "metadata": {
        "id": "uYlSk_uWywMg"
      },
      "source": [
        "### 3.1.1 통계 기반 기법의 문제점\n"
      ]
    },
    {
      "cell_type": "markdown",
      "metadata": {
        "id": "wwZPAsmo64Tt"
      },
      "source": [
        "### 3.1.2 추론 기반 기법 개요\n"
      ]
    },
    {
      "cell_type": "markdown",
      "metadata": {
        "id": "3G9oVkCh67AW"
      },
      "source": [
        "### 3.1.3 신경망에서의 단어 처리\n"
      ]
    },
    {
      "cell_type": "markdown",
      "metadata": {
        "id": "qpOV-W0Z68ou"
      },
      "source": [
        "## 3.2 단순한 word2vec\n"
      ]
    },
    {
      "cell_type": "markdown",
      "metadata": {
        "id": "46Gu9CUr6-le"
      },
      "source": [
        "### 3.2.1 CBOW 모델의 추론 처리\n"
      ]
    },
    {
      "cell_type": "markdown",
      "metadata": {
        "id": "cSV45iJe7BqW"
      },
      "source": [
        "### 3.2.2 CBOW 모델의 학습\n"
      ]
    },
    {
      "cell_type": "markdown",
      "metadata": {
        "id": "FY52gKak7DV3"
      },
      "source": [
        "### 3.2.3 word2vec의 가중치와 분산 표현\n"
      ]
    },
    {
      "cell_type": "markdown",
      "metadata": {
        "id": "nCcYxyEp7Fqn"
      },
      "source": [
        "## 3.3 학습 데이터 준비\n"
      ]
    },
    {
      "cell_type": "markdown",
      "metadata": {
        "id": "_CZGqMuk7Hae"
      },
      "source": [
        "### 3.3.1 맥락과 타깃\n"
      ]
    },
    {
      "cell_type": "markdown",
      "metadata": {
        "id": "zD9NNbx-7JbO"
      },
      "source": [
        "### 3.3.2 원핫 표현으로 변환\n"
      ]
    },
    {
      "cell_type": "markdown",
      "metadata": {
        "id": "_0rXHG7-7LLv"
      },
      "source": [
        "## 3.4 CBOW 모델 구현\n"
      ]
    },
    {
      "cell_type": "markdown",
      "metadata": {
        "id": "ALE7OBp-7Ovq"
      },
      "source": [
        "### 3.4.1 학습 코드 구현\n"
      ]
    },
    {
      "cell_type": "markdown",
      "metadata": {
        "id": "1NZjeXDl7QMn"
      },
      "source": [
        "## 3.5 word2vec 보충\n"
      ]
    },
    {
      "cell_type": "markdown",
      "metadata": {
        "id": "jIUJzU517St4"
      },
      "source": [
        "### 3.5.1 CBOW 모델과 확률\n"
      ]
    },
    {
      "cell_type": "markdown",
      "metadata": {
        "id": "xoqhgFuK7UjY"
      },
      "source": [
        "### 3.5.2 skip-gram 모델\n"
      ]
    },
    {
      "cell_type": "markdown",
      "metadata": {
        "id": "4El_7YFo7Wm1"
      },
      "source": [
        "### 3.5.3 통계 기반 vs 추론 기반\n"
      ]
    },
    {
      "cell_type": "markdown",
      "metadata": {
        "id": "JXD4wHRR7Y9h"
      },
      "source": [
        "## 3.6 정리\n"
      ]
    }
  ]
}