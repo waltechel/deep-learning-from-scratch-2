{
  "nbformat": 4,
  "nbformat_minor": 0,
  "metadata": {
    "colab": {
      "name": "chapter05.ipynb",
      "private_outputs": true,
      "provenance": [],
      "toc_visible": true,
      "authorship_tag": "ABX9TyNMO3Pp6ycr+6VlZVbCTeIE",
      "include_colab_link": true
    },
    "kernelspec": {
      "name": "python3",
      "display_name": "Python 3"
    },
    "language_info": {
      "name": "python"
    }
  },
  "cells": [
    {
      "cell_type": "markdown",
      "metadata": {
        "id": "view-in-github",
        "colab_type": "text"
      },
      "source": [
        "<a href=\"https://colab.research.google.com/github/waltechel/deep-learning-from-scratch-2/blob/master/ch05/chapter05.ipynb\" target=\"_parent\"><img src=\"https://colab.research.google.com/assets/colab-badge.svg\" alt=\"Open In Colab\"/></a>"
      ]
    },
    {
      "cell_type": "markdown",
      "metadata": {
        "id": "BXv2lC1-pB4T"
      },
      "source": [
        "# Chapter05 순환 신경망\n"
      ]
    },
    {
      "cell_type": "markdown",
      "metadata": {
        "id": "Dp7t22j3pE8b"
      },
      "source": [
        "## 5.1 확률과 언어 모델"
      ]
    },
    {
      "cell_type": "markdown",
      "metadata": {
        "id": "uYlSk_uWywMg"
      },
      "source": [
        "### 5.1.1 word2vec을 확률 관점에서 바라보다\n"
      ]
    },
    {
      "cell_type": "markdown",
      "metadata": {
        "id": "wwZPAsmo64Tt"
      },
      "source": [
        "### 5.1.2 언어 모델\n",
        "\n"
      ]
    },
    {
      "cell_type": "markdown",
      "metadata": {
        "id": "kYt6tcDe9RDR"
      },
      "source": [
        "### 5.1.3 CBOW 모델을 언어 모델로?\n"
      ]
    },
    {
      "cell_type": "markdown",
      "metadata": {
        "id": "3G9oVkCh67AW"
      },
      "source": [
        "## 5.2 RNN이란\n"
      ]
    },
    {
      "cell_type": "markdown",
      "metadata": {
        "id": "TcLDj87n8J1X"
      },
      "source": [
        "### 5.2.1 순환 하는 신경망\n"
      ]
    },
    {
      "cell_type": "markdown",
      "metadata": {
        "id": "NZ-sX0mz8NFj"
      },
      "source": [
        "### 5.2.2 순환 구조 펼치기\n"
      ]
    },
    {
      "cell_type": "markdown",
      "metadata": {
        "id": "Rk5O2hBn8PYV"
      },
      "source": [
        "### 5.2.3 BPTT\n"
      ]
    },
    {
      "cell_type": "markdown",
      "metadata": {
        "id": "tF49q-Bm8Szk"
      },
      "source": [
        "### 5.2.4 Truncated BPTT\n"
      ]
    },
    {
      "cell_type": "markdown",
      "metadata": {
        "id": "cF8Qsz_r8VPp"
      },
      "source": [
        "### 5.2.5 Truncated BPTT의 미니배치 학습\n"
      ]
    },
    {
      "cell_type": "markdown",
      "metadata": {
        "id": "sC4CbZAC8bMD"
      },
      "source": [
        "## 5.3 RNN 구현\n"
      ]
    },
    {
      "cell_type": "markdown",
      "metadata": {
        "id": "04e2MAVA8ivj"
      },
      "source": [
        "### 5.3.1 RNN 계층 구현\n"
      ]
    },
    {
      "cell_type": "markdown",
      "metadata": {
        "id": "V8IxWqa78mOT"
      },
      "source": [
        "### 5.3.2 Time RNN 계층 구현\n"
      ]
    },
    {
      "cell_type": "markdown",
      "metadata": {
        "id": "cvVTmhKw8rLs"
      },
      "source": [
        "## 5.4 시계열 데이터 처리 계층 구현\n"
      ]
    },
    {
      "cell_type": "markdown",
      "metadata": {
        "id": "-klEduko8toV"
      },
      "source": [
        "### 5.4.1 RNNLM의 전체 그림\n"
      ]
    },
    {
      "cell_type": "markdown",
      "metadata": {
        "id": "N91x7on_8woE"
      },
      "source": [
        "### 5.4.2 Time 계층 구현\n"
      ]
    },
    {
      "cell_type": "markdown",
      "metadata": {
        "id": "BH9sdno18yrG"
      },
      "source": [
        "## 5.5 RNNLM 학습과 평가\n"
      ]
    },
    {
      "cell_type": "markdown",
      "metadata": {
        "id": "mLJjM8ol986J"
      },
      "source": [
        "### 5.5.1 RNNLM 구현\n"
      ]
    },
    {
      "cell_type": "markdown",
      "metadata": {
        "id": "s6OX3YSM-Aox"
      },
      "source": [
        "### 5.5.2 언어 모델의 평가\n"
      ]
    },
    {
      "cell_type": "markdown",
      "metadata": {
        "id": "pBSjs-IZ-COQ"
      },
      "source": [
        "### 5.5.3 RNNLM의 학습 코드\n"
      ]
    },
    {
      "cell_type": "markdown",
      "metadata": {
        "id": "2kJgbDQb-FJ5"
      },
      "source": [
        "### 5.5.4 RNNLM의 Trainer 클래스\n"
      ]
    },
    {
      "cell_type": "markdown",
      "metadata": {
        "id": "_yECEctr-HlA"
      },
      "source": [
        "## 5.6 정리\n"
      ]
    }
  ]
}